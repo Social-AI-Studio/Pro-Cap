{
 "cells": [
  {
   "cell_type": "code",
   "execution_count": 1,
   "id": "e666112e",
   "metadata": {},
   "outputs": [],
   "source": [
    "%matplotlib notebook\n",
    "%matplotlib inline\n",
    "\n",
    "VQA_PATH='/Data_Storage/Rui_Data_Space/multimodal/VQA'\n",
    "GQA_PATH='/Data_Storage/Rui_Data_Space/multimodal/GQA'\n",
    "\n",
    "import pandas as pd\n",
    "from collections import defaultdict"
   ]
  },
  {
   "cell_type": "code",
   "execution_count": 2,
   "id": "64b1ef93",
   "metadata": {},
   "outputs": [],
   "source": [
    "import json\n",
    "import pickle as pkl\n",
    "\n",
    "def load_pkl(path):\n",
    "    data=pkl.load(open(path,'rb'))\n",
    "    return data\n",
    "\n",
    "def load_json(path):\n",
    "    data=json.load(open(path,'r'))\n",
    "    return data"
   ]
  },
  {
   "cell_type": "code",
   "execution_count": 3,
   "id": "47079b13",
   "metadata": {},
   "outputs": [],
   "source": [
    "PATH='/Data_Storage/Rui_Data_Space/hate-speech'"
   ]
  },
  {
   "cell_type": "code",
   "execution_count": 4,
   "id": "cb91254a",
   "metadata": {},
   "outputs": [],
   "source": [
    "import os\n",
    "import random"
   ]
  },
  {
   "cell_type": "code",
   "execution_count": 5,
   "id": "81511762",
   "metadata": {},
   "outputs": [],
   "source": [
    "import torch\n",
    "import requests\n",
    "from PIL import Image\n",
    "from matplotlib import pyplot as plt\n",
    "import numpy as np\n",
    "\n",
    "from lavis.common.gradcam import getAttMap\n",
    "from lavis.models import load_model_and_preprocess"
   ]
  },
  {
   "cell_type": "code",
   "execution_count": 6,
   "id": "79a1ed06",
   "metadata": {},
   "outputs": [],
   "source": [
    "import os\n",
    "\n",
    "os.environ[\"CUDA_DEVICE_ORDER\"]=\"PCI_BUS_ID\"   \n",
    "os.environ[\"CUDA_VISIBLE_DEVICES\"]='9,10,11,12'"
   ]
  },
  {
   "cell_type": "code",
   "execution_count": 7,
   "id": "039103fe",
   "metadata": {},
   "outputs": [],
   "source": [
    "import os\n",
    "\n",
    "CUDA_DEVICE=8\n",
    "torch.cuda.set_device(CUDA_DEVICE)\n",
    "device = torch.device(\"cuda:\"+str(CUDA_DEVICE))"
   ]
  },
  {
   "cell_type": "code",
   "execution_count": 8,
   "id": "3b0b92de",
   "metadata": {},
   "outputs": [
    {
     "name": "stdout",
     "output_type": "stream",
     "text": [
      "354\n",
      "3013\n"
     ]
    }
   ],
   "source": [
    "harm_test=load_json(os.path.join(PATH,\n",
    "                                 'domain_splits',\n",
    "                                 'harm_test.json'))\n",
    "print (len(harm_test))\n",
    "harm_train=load_json(os.path.join(PATH,\n",
    "                                 'domain_splits',\n",
    "                                 'harm_train.json'))\n",
    "print (len(harm_train))"
   ]
  },
  {
   "cell_type": "code",
   "execution_count": 9,
   "id": "ae5d43bd",
   "metadata": {},
   "outputs": [
    {
     "name": "stdout",
     "output_type": "stream",
     "text": [
      "Position interpolate from 16x16 to 26x26\n"
     ]
    },
    {
     "data": {
      "application/vnd.jupyter.widget-view+json": {
       "model_id": "f65f8c1597344b4fa55df5ab6bf75062",
       "version_major": 2,
       "version_minor": 0
      },
      "text/plain": [
       "Loading checkpoint shards:   0%|          | 0/2 [00:00<?, ?it/s]"
      ]
     },
     "metadata": {},
     "output_type": "display_data"
    }
   ],
   "source": [
    "model, vis_processors, _ = load_model_and_preprocess(\n",
    "    name=\"blip2_t5\", model_type=\"caption_coco_flant5xl\", is_eval=True, device=device\n",
    ")"
   ]
  },
  {
   "cell_type": "code",
   "execution_count": 10,
   "id": "29555f87",
   "metadata": {},
   "outputs": [],
   "source": [
    "model=model.float()"
   ]
  },
  {
   "cell_type": "code",
   "execution_count": 11,
   "id": "5f89b9da",
   "metadata": {},
   "outputs": [],
   "source": [
    "def display_img(im,text):\n",
    "    img = im.convert('RGB')\n",
    "    img = np.asarray(img, dtype=np.float32).squeeze()\n",
    "    fig = plt.figure()\n",
    "    fig, ax = plt.subplots(1, 1, figsize=(5, 5))\n",
    "    ax.set_title(text,  fontsize=12)\n",
    "    ax.imshow(img.astype(np.uint8))    "
   ]
  },
  {
   "cell_type": "code",
   "execution_count": null,
   "id": "2b2ccd20",
   "metadata": {},
   "outputs": [],
   "source": []
  },
  {
   "cell_type": "code",
   "execution_count": 12,
   "id": "c1fe0f4d",
   "metadata": {},
   "outputs": [
    {
     "name": "stdout",
     "output_type": "stream",
     "text": [
      "354\n",
      "3013\n"
     ]
    }
   ],
   "source": [
    "dataset='harm'\n",
    "test=load_json(os.path.join(PATH,\n",
    "                                 'domain_splits',\n",
    "                                 dataset+'_test.json'))\n",
    "print (len(test))\n",
    "train=load_json(os.path.join(PATH,\n",
    "                                 'domain_splits',\n",
    "                                 dataset+'_train.json'))\n",
    "print (len(train))"
   ]
  },
  {
   "cell_type": "code",
   "execution_count": 13,
   "id": "1e529ebf",
   "metadata": {},
   "outputs": [],
   "source": [
    "def generate_prompt_result(im,ques):\n",
    "    image = vis_processors[\"eval\"](im).float().unsqueeze(0).to(device)\n",
    "    ans = model.generate({\"image\": image, \n",
    "                          \"prompt\": (\"Question: %s Answer:\" % (ques))},\n",
    "                         length_penalty=3.0)\n",
    "    return ans[0]"
   ]
  },
  {
   "cell_type": "code",
   "execution_count": null,
   "id": "6bb77ba6",
   "metadata": {},
   "outputs": [],
   "source": []
  },
  {
   "cell_type": "code",
   "execution_count": 15,
   "id": "32cea372",
   "metadata": {},
   "outputs": [
    {
     "name": "stdout",
     "output_type": "stream",
     "text": [
      "Already finished: 0.0\n",
      "354\n",
      "Already finished: 0.0\n",
      "Already finished: 16.59475605708596\n",
      "Already finished: 33.18951211417192\n",
      "Already finished: 49.784268171257885\n",
      "Already finished: 66.37902422834384\n",
      "Already finished: 82.97378028542981\n",
      "Already finished: 99.56853634251577\n",
      "3013\n"
     ]
    }
   ],
   "source": [
    "NUM_VIS=5\n",
    "NUM_CAP=5\n",
    "VIS_CAP=5\n",
    "ques='what is the race of the person in the image?'\n",
    "\n",
    "\n",
    "random.shuffle(test)\n",
    "\n",
    "vis=0\n",
    "total={}\n",
    "for i,row in enumerate(test):\n",
    "    if i%500==0:\n",
    "        print ('Already finished:',i*100.0/len(test))\n",
    "    im=Image.open(os.path.join(PATH,\n",
    "                               'multimodal-hate',dataset,\n",
    "                               'img_clean',row['img']))\n",
    "    ans=generate_prompt_result(im,ques)\n",
    "    vis+=1\n",
    "    total[row['img']]=ans\n",
    "print (len(total))\n",
    "pkl.dump(\n",
    "    total,\n",
    "    open(\n",
    "        os.path.join\n",
    "        ('/Data_Storage/Rui_Code_Space/hate-speech/Ask-Captions/Longer-Longer-Captions',\n",
    "         dataset,\n",
    "         'test_race.pkl'),'wb'))\n",
    "\n",
    "random.shuffle(train)\n",
    "\n",
    "vis=0\n",
    "total={}\n",
    "for i,row in enumerate(train):\n",
    "    if i%500==0:\n",
    "        print ('Already finished:',i*100.0/len(train))\n",
    "    im=Image.open(os.path.join(PATH,\n",
    "                               'multimodal-hate',dataset,\n",
    "                               'img_clean',row['img']))\n",
    "    ans=generate_prompt_result(im,ques)\n",
    "    vis+=1\n",
    "    total[row['img']]=ans\n",
    "print (len(total))\n",
    "pkl.dump(\n",
    "    total,\n",
    "    open(\n",
    "        os.path.join\n",
    "        ('/Data_Storage/Rui_Code_Space/hate-speech/Ask-Captions/Longer-Longer-Captions',\n",
    "         dataset,\n",
    "         'train_race.pkl'),'wb'))"
   ]
  },
  {
   "cell_type": "code",
   "execution_count": 16,
   "id": "5f655c03",
   "metadata": {},
   "outputs": [],
   "source": [
    "pkl.dump(\n",
    "    total,\n",
    "    open(\n",
    "        os.path.join\n",
    "        ('/Data_Storage/Rui_Code_Space/hate-speech/Ask-Captions/Longer-Longer-Captions',\n",
    "         dataset,\n",
    "         'train_race.pkl'),'wb'))"
   ]
  },
  {
   "cell_type": "code",
   "execution_count": 17,
   "id": "a48fabd1",
   "metadata": {},
   "outputs": [
    {
     "name": "stdout",
     "output_type": "stream",
     "text": [
      "Already finished: 0.0\n",
      "354\n",
      "Already finished: 0.0\n",
      "Already finished: 16.59475605708596\n",
      "Already finished: 33.18951211417192\n",
      "Already finished: 49.784268171257885\n",
      "Already finished: 66.37902422834384\n",
      "Already finished: 82.97378028542981\n",
      "Already finished: 99.56853634251577\n",
      "3013\n"
     ]
    }
   ],
   "source": [
    "NUM_VIS=5\n",
    "NUM_CAP=5\n",
    "VIS_CAP=5\n",
    "ques='what is the gender of the person in the image?'\n",
    "\n",
    "\n",
    "random.shuffle(test)\n",
    "\n",
    "vis=0\n",
    "total={}\n",
    "for i,row in enumerate(test):\n",
    "    if i%500==0:\n",
    "        print ('Already finished:',i*100.0/len(test))\n",
    "    im=Image.open(os.path.join(PATH,\n",
    "                               'multimodal-hate',dataset,\n",
    "                               'img_clean',row['img']))\n",
    "    ans=generate_prompt_result(im,ques)\n",
    "    vis+=1\n",
    "    total[row['img']]=ans\n",
    "print (len(total))\n",
    "pkl.dump(\n",
    "    total,\n",
    "    open(\n",
    "        os.path.join\n",
    "        ('/Data_Storage/Rui_Code_Space/hate-speech/Ask-Captions/Longer-Longer-Captions',\n",
    "         dataset,\n",
    "         'test_gender.pkl'),'wb'))\n",
    "\n",
    "random.shuffle(train)\n",
    "\n",
    "vis=0\n",
    "total={}\n",
    "for i,row in enumerate(train):\n",
    "    if i%500==0:\n",
    "        print ('Already finished:',i*100.0/len(train))\n",
    "    im=Image.open(os.path.join(PATH,\n",
    "                               'multimodal-hate',dataset,\n",
    "                               'img_clean',row['img']))\n",
    "    ans=generate_prompt_result(im,ques)\n",
    "    vis+=1\n",
    "    total[row['img']]=ans\n",
    "print (len(total))\n",
    "pkl.dump(\n",
    "    total,\n",
    "    open(\n",
    "        os.path.join\n",
    "        ('/Data_Storage/Rui_Code_Space/hate-speech/Ask-Captions/Longer-Longer-Captions',\n",
    "         dataset,\n",
    "         'train_gender.pkl'),'wb'))"
   ]
  },
  {
   "cell_type": "code",
   "execution_count": 18,
   "id": "8698680c",
   "metadata": {},
   "outputs": [
    {
     "name": "stdout",
     "output_type": "stream",
     "text": [
      "Already finished: 0.0\n",
      "354\n",
      "Already finished: 0.0\n",
      "Already finished: 16.59475605708596\n",
      "Already finished: 33.18951211417192\n",
      "Already finished: 49.784268171257885\n",
      "Already finished: 66.37902422834384\n",
      "Already finished: 82.97378028542981\n",
      "Already finished: 99.56853634251577\n",
      "3013\n"
     ]
    }
   ],
   "source": [
    "NUM_VIS=5\n",
    "NUM_CAP=5\n",
    "VIS_CAP=5\n",
    "ques='is there an animal in the image?'\n",
    "\n",
    "\n",
    "random.shuffle(test)\n",
    "\n",
    "vis=0\n",
    "total={}\n",
    "for i,row in enumerate(test):\n",
    "    if i%500==0:\n",
    "        print ('Already finished:',i*100.0/len(test))\n",
    "    im=Image.open(os.path.join(PATH,\n",
    "                               'multimodal-hate',dataset,\n",
    "                               'img_clean',row['img']))\n",
    "    ans=generate_prompt_result(im,ques)\n",
    "    vis+=1\n",
    "    total[row['img']]=ans\n",
    "print (len(total))\n",
    "pkl.dump(\n",
    "    total,\n",
    "    open(\n",
    "        os.path.join\n",
    "        ('/Data_Storage/Rui_Code_Space/hate-speech/Ask-Captions/Longer-Longer-Captions',\n",
    "         dataset,\n",
    "         'test_valid_animal.pkl'),'wb'))\n",
    "\n",
    "random.shuffle(train)\n",
    "\n",
    "vis=0\n",
    "total={}\n",
    "for i,row in enumerate(train):\n",
    "    if i%500==0:\n",
    "        print ('Already finished:',i*100.0/len(train))\n",
    "    im=Image.open(os.path.join(PATH,\n",
    "                               'multimodal-hate',dataset,\n",
    "                               'img_clean',row['img']))\n",
    "    ans=generate_prompt_result(im,ques)\n",
    "    vis+=1\n",
    "    total[row['img']]=ans\n",
    "print (len(total))\n",
    "pkl.dump(\n",
    "    total,\n",
    "    open(\n",
    "        os.path.join\n",
    "        ('/Data_Storage/Rui_Code_Space/hate-speech/Ask-Captions/Longer-Longer-Captions',\n",
    "         dataset,\n",
    "         'train_valid_animal.pkl'),'wb'))"
   ]
  },
  {
   "cell_type": "code",
   "execution_count": 19,
   "id": "cdc8bb57",
   "metadata": {},
   "outputs": [
    {
     "name": "stdout",
     "output_type": "stream",
     "text": [
      "Already finished: 0.0\n",
      "354\n",
      "Already finished: 0.0\n",
      "Already finished: 16.59475605708596\n",
      "Already finished: 33.18951211417192\n",
      "Already finished: 49.784268171257885\n",
      "Already finished: 66.37902422834384\n",
      "Already finished: 82.97378028542981\n",
      "Already finished: 99.56853634251577\n",
      "3013\n"
     ]
    }
   ],
   "source": [
    "NUM_VIS=5\n",
    "NUM_CAP=5\n",
    "VIS_CAP=5\n",
    "ques='is there a person in the image?'\n",
    "\n",
    "\n",
    "random.shuffle(test)\n",
    "\n",
    "vis=0\n",
    "total={}\n",
    "for i,row in enumerate(test):\n",
    "    if i%500==0:\n",
    "        print ('Already finished:',i*100.0/len(test))\n",
    "    im=Image.open(os.path.join(PATH,\n",
    "                               'multimodal-hate',dataset,\n",
    "                               'img_clean',row['img']))\n",
    "    ans=generate_prompt_result(im,ques)\n",
    "    vis+=1\n",
    "    total[row['img']]=ans\n",
    "print (len(total))\n",
    "pkl.dump(\n",
    "    total,\n",
    "    open(\n",
    "        os.path.join\n",
    "        ('/Data_Storage/Rui_Code_Space/hate-speech/Ask-Captions/Longer-Longer-Captions',\n",
    "         dataset,\n",
    "         'test_valid_person.pkl'),'wb'))\n",
    "\n",
    "random.shuffle(train)\n",
    "\n",
    "vis=0\n",
    "total={}\n",
    "for i,row in enumerate(train):\n",
    "    if i%500==0:\n",
    "        print ('Already finished:',i*100.0/len(train))\n",
    "    im=Image.open(os.path.join(PATH,\n",
    "                               'multimodal-hate',dataset,\n",
    "                               'img_clean',row['img']))\n",
    "    ans=generate_prompt_result(im,ques)\n",
    "    vis+=1\n",
    "    total[row['img']]=ans\n",
    "print (len(total))\n",
    "pkl.dump(\n",
    "    total,\n",
    "    open(\n",
    "        os.path.join\n",
    "        ('/Data_Storage/Rui_Code_Space/hate-speech/Ask-Captions/Longer-Longer-Captions',\n",
    "         dataset,\n",
    "         'train_valid_person.pkl'),'wb'))"
   ]
  },
  {
   "cell_type": "code",
   "execution_count": 20,
   "id": "31ec5347",
   "metadata": {},
   "outputs": [
    {
     "name": "stdout",
     "output_type": "stream",
     "text": [
      "Already finished: 0.0\n",
      "354\n",
      "Already finished: 0.0\n",
      "Already finished: 16.59475605708596\n",
      "Already finished: 33.18951211417192\n",
      "Already finished: 49.784268171257885\n",
      "Already finished: 66.37902422834384\n",
      "Already finished: 82.97378028542981\n",
      "Already finished: 99.56853634251577\n",
      "3013\n"
     ]
    }
   ],
   "source": [
    "NUM_VIS=5\n",
    "NUM_CAP=5\n",
    "VIS_CAP=5\n",
    "ques='which country does the person in the image come from?'\n",
    "\n",
    "\n",
    "random.shuffle(test)\n",
    "\n",
    "vis=0\n",
    "total={}\n",
    "for i,row in enumerate(test):\n",
    "    if i%500==0:\n",
    "        print ('Already finished:',i*100.0/len(test))\n",
    "    im=Image.open(os.path.join(PATH,\n",
    "                               'multimodal-hate',dataset,\n",
    "                               'img_clean',row['img']))\n",
    "    ans=generate_prompt_result(im,ques)\n",
    "    vis+=1\n",
    "    total[row['img']]=ans\n",
    "print (len(total))\n",
    "pkl.dump(\n",
    "    total,\n",
    "    open(\n",
    "        os.path.join\n",
    "        ('/Data_Storage/Rui_Code_Space/hate-speech/Ask-Captions/Longer-Longer-Captions',\n",
    "         dataset,\n",
    "         'test_country.pkl'),'wb'))\n",
    "\n",
    "random.shuffle(train)\n",
    "\n",
    "vis=0\n",
    "total={}\n",
    "for i,row in enumerate(train):\n",
    "    if i%500==0:\n",
    "        print ('Already finished:',i*100.0/len(train))\n",
    "    im=Image.open(os.path.join(PATH,\n",
    "                               'multimodal-hate',dataset,\n",
    "                               'img_clean',row['img']))\n",
    "    ans=generate_prompt_result(im,ques)\n",
    "    vis+=1\n",
    "    total[row['img']]=ans\n",
    "print (len(total))\n",
    "pkl.dump(\n",
    "    total,\n",
    "    open(\n",
    "        os.path.join\n",
    "        ('/Data_Storage/Rui_Code_Space/hate-speech/Ask-Captions/Longer-Longer-Captions',\n",
    "         dataset,\n",
    "         'train_country.pkl'),'wb'))"
   ]
  },
  {
   "cell_type": "code",
   "execution_count": 21,
   "id": "8071a8f3",
   "metadata": {},
   "outputs": [
    {
     "name": "stdout",
     "output_type": "stream",
     "text": [
      "Already finished: 0.0\n",
      "354\n",
      "Already finished: 0.0\n",
      "Already finished: 16.59475605708596\n",
      "Already finished: 33.18951211417192\n",
      "Already finished: 49.784268171257885\n",
      "Already finished: 66.37902422834384\n",
      "Already finished: 82.97378028542981\n",
      "Already finished: 99.56853634251577\n",
      "3013\n"
     ]
    }
   ],
   "source": [
    "NUM_VIS=5\n",
    "NUM_CAP=5\n",
    "VIS_CAP=5\n",
    "ques='what animal is in the image?'\n",
    "\n",
    "random.shuffle(test)\n",
    "\n",
    "vis=0\n",
    "total={}\n",
    "for i,row in enumerate(test):\n",
    "    if i%500==0:\n",
    "        print ('Already finished:',i*100.0/len(test))\n",
    "    im=Image.open(os.path.join(PATH,\n",
    "                               'multimodal-hate',dataset,\n",
    "                               'img_clean',row['img']))\n",
    "    ans=generate_prompt_result(im,ques)\n",
    "    vis+=1\n",
    "    total[row['img']]=ans\n",
    "print (len(total))\n",
    "pkl.dump(\n",
    "    total,\n",
    "    open(\n",
    "        os.path.join\n",
    "        ('/Data_Storage/Rui_Code_Space/hate-speech/Ask-Captions/Longer-Longer-Captions',\n",
    "         dataset,\n",
    "         'test_animal.pkl'),'wb'))\n",
    "\n",
    "random.shuffle(train)\n",
    "\n",
    "vis=0\n",
    "total={}\n",
    "for i,row in enumerate(train):\n",
    "    if i%500==0:\n",
    "        print ('Already finished:',i*100.0/len(train))\n",
    "    im=Image.open(os.path.join(PATH,\n",
    "                               'multimodal-hate',dataset,\n",
    "                               'img_clean',row['img']))\n",
    "    ans=generate_prompt_result(im,ques)\n",
    "    vis+=1\n",
    "    total[row['img']]=ans\n",
    "print (len(total))\n",
    "pkl.dump(\n",
    "    total,\n",
    "    open(\n",
    "        os.path.join\n",
    "        ('/Data_Storage/Rui_Code_Space/hate-speech/Ask-Captions/Longer-Longer-Captions',\n",
    "         dataset,\n",
    "         'train_animal.pkl'),'wb'))"
   ]
  },
  {
   "cell_type": "code",
   "execution_count": 22,
   "id": "1ae6a702",
   "metadata": {},
   "outputs": [
    {
     "name": "stdout",
     "output_type": "stream",
     "text": [
      "Already finished: 0.0\n",
      "354\n",
      "Already finished: 0.0\n",
      "Already finished: 16.59475605708596\n",
      "Already finished: 33.18951211417192\n",
      "Already finished: 49.784268171257885\n",
      "Already finished: 66.37902422834384\n",
      "Already finished: 82.97378028542981\n",
      "Already finished: 99.56853634251577\n",
      "3013\n"
     ]
    }
   ],
   "source": [
    "NUM_VIS=5\n",
    "NUM_CAP=5\n",
    "VIS_CAP=5\n",
    "ques='are there disabled people in the image?'\n",
    "\n",
    "random.shuffle(test)\n",
    "\n",
    "vis=0\n",
    "total={}\n",
    "for i,row in enumerate(test):\n",
    "    if i%500==0:\n",
    "        print ('Already finished:',i*100.0/len(test))\n",
    "    im=Image.open(os.path.join(PATH,\n",
    "                               'multimodal-hate',dataset,\n",
    "                               'img_clean',row['img']))\n",
    "    ans=generate_prompt_result(im,ques)\n",
    "    vis+=1\n",
    "    total[row['img']]=ans\n",
    "print (len(total))\n",
    "pkl.dump(\n",
    "    total,\n",
    "    open(\n",
    "        os.path.join\n",
    "        ('/Data_Storage/Rui_Code_Space/hate-speech/Ask-Captions/Longer-Longer-Captions',\n",
    "         dataset,\n",
    "         'test_valid_disable.pkl'),'wb'))\n",
    "\n",
    "random.shuffle(train)\n",
    "\n",
    "vis=0\n",
    "total={}\n",
    "for i,row in enumerate(train):\n",
    "    if i%500==0:\n",
    "        print ('Already finished:',i*100.0/len(train))\n",
    "    im=Image.open(os.path.join(PATH,\n",
    "                               'multimodal-hate',dataset,\n",
    "                               'img_clean',row['img']))\n",
    "    ans=generate_prompt_result(im,ques)\n",
    "    vis+=1\n",
    "    total[row['img']]=ans\n",
    "print (len(total))\n",
    "pkl.dump(\n",
    "    total,\n",
    "    open(\n",
    "        os.path.join\n",
    "        ('/Data_Storage/Rui_Code_Space/hate-speech/Ask-Captions/Longer-Longer-Captions',\n",
    "         dataset,\n",
    "         'train_valid_disable.pkl'),'wb'))"
   ]
  },
  {
   "cell_type": "code",
   "execution_count": 23,
   "id": "68d00a91",
   "metadata": {},
   "outputs": [
    {
     "name": "stdout",
     "output_type": "stream",
     "text": [
      "Already finished: 0.0\n",
      "354\n",
      "Already finished: 0.0\n",
      "Already finished: 16.59475605708596\n",
      "Already finished: 33.18951211417192\n",
      "Already finished: 49.784268171257885\n",
      "Already finished: 66.37902422834384\n",
      "Already finished: 82.97378028542981\n",
      "Already finished: 99.56853634251577\n",
      "3013\n"
     ]
    }
   ],
   "source": [
    "NUM_VIS=5\n",
    "NUM_CAP=5\n",
    "VIS_CAP=5\n",
    "ques='what is the religion of the person in the image?'\n",
    "\n",
    "random.shuffle(test)\n",
    "\n",
    "vis=0\n",
    "total={}\n",
    "for i,row in enumerate(test):\n",
    "    if i%500==0:\n",
    "        print ('Already finished:',i*100.0/len(test))\n",
    "    im=Image.open(os.path.join(PATH,\n",
    "                               'multimodal-hate',dataset,\n",
    "                               'img_clean',row['img']))\n",
    "    ans=generate_prompt_result(im,ques)\n",
    "    vis+=1\n",
    "    total[row['img']]=ans\n",
    "print (len(total))\n",
    "pkl.dump(\n",
    "    total,\n",
    "    open(\n",
    "        os.path.join\n",
    "        ('/Data_Storage/Rui_Code_Space/hate-speech/Ask-Captions/Longer-Longer-Captions',\n",
    "         dataset,\n",
    "         'test_religion.pkl'),'wb'))\n",
    "\n",
    "random.shuffle(train)\n",
    "\n",
    "vis=0\n",
    "total={}\n",
    "for i,row in enumerate(train):\n",
    "    if i%500==0:\n",
    "        print ('Already finished:',i*100.0/len(train))\n",
    "    im=Image.open(os.path.join(PATH,\n",
    "                               'multimodal-hate',dataset,\n",
    "                               'img_clean',row['img']))\n",
    "    ans=generate_prompt_result(im,ques)\n",
    "    vis+=1\n",
    "    total[row['img']]=ans\n",
    "print (len(total))\n",
    "pkl.dump(\n",
    "    total,\n",
    "    open(\n",
    "        os.path.join\n",
    "        ('/Data_Storage/Rui_Code_Space/hate-speech/Ask-Captions/Longer-Longer-Captions',\n",
    "         dataset,\n",
    "         'train_religion.pkl'),'wb'))"
   ]
  },
  {
   "cell_type": "code",
   "execution_count": null,
   "id": "ce289028",
   "metadata": {},
   "outputs": [],
   "source": []
  },
  {
   "cell_type": "code",
   "execution_count": null,
   "id": "54db640b",
   "metadata": {},
   "outputs": [],
   "source": []
  },
  {
   "cell_type": "code",
   "execution_count": null,
   "id": "62401c3f",
   "metadata": {},
   "outputs": [],
   "source": []
  }
 ],
 "metadata": {
  "kernelspec": {
   "display_name": "Python 3 (ipykernel)",
   "language": "python",
   "name": "python3"
  },
  "language_info": {
   "codemirror_mode": {
    "name": "ipython",
    "version": 3
   },
   "file_extension": ".py",
   "mimetype": "text/x-python",
   "name": "python",
   "nbconvert_exporter": "python",
   "pygments_lexer": "ipython3",
   "version": "3.8.13"
  }
 },
 "nbformat": 4,
 "nbformat_minor": 5
}
